{
  "cells": [
    {
      "cell_type": "markdown",
      "id": "6416e42f",
      "metadata": {
        "id": "6416e42f"
      },
      "source": [
        "# HER2 Status"
      ]
    },
    {
      "cell_type": "markdown",
      "id": "14af23eb",
      "metadata": {
        "id": "14af23eb"
      },
      "source": [
        "# Imports"
      ]
    },
    {
      "cell_type": "code",
      "execution_count": null,
      "id": "e4ca0e36",
      "metadata": {
        "id": "e4ca0e36"
      },
      "outputs": [],
      "source": [
        "import numpy as np\n",
        "from sklearn.model_selection import StratifiedKFold\n",
        "from sklearn.utils import shuffle\n",
        "from sklearn.metrics import accuracy_score\n",
        "from imblearn.over_sampling import RandomOverSampler\n",
        "import pandas as pd\n",
        "from sklearn.preprocessing import LabelEncoder\n",
        "from sklearn.preprocessing import StandardScaler\n",
        "from sklearn.linear_model import LogisticRegression\n",
        "from sklearn.neighbors import KNeighborsClassifier\n",
        "from sklearn.ensemble import RandomForestClassifier\n",
        "from sklearn.tree import DecisionTreeClassifier\n",
        "from sklearn.svm import SVC\n",
        "from sklearn.naive_bayes import GaussianNB\n",
        "from sklearn.metrics import accuracy_score,classification_report, confusion_matrix,roc_auc_score,roc_curve\n",
        "from sklearn import metrics\n",
        "import seaborn as sns\n",
        "import matplotlib.pyplot as plt"
      ]
    },
    {
      "cell_type": "code",
      "execution_count": null,
      "id": "0ecfd7f2",
      "metadata": {
        "id": "0ecfd7f2"
      },
      "outputs": [],
      "source": [
        "data=pd.read_excel(\"/content/sample_data/BCDexcel.xlsx\")"
      ]
    },
    {
      "cell_type": "code",
      "execution_count": null,
      "id": "d1216111",
      "metadata": {
        "colab": {
          "base_uri": "https://localhost:8080/",
          "height": 620
        },
        "id": "d1216111",
        "outputId": "847fb630-1ca2-4b10-d0a8-30aef38641e5"
      },
      "outputs": [
        {
          "output_type": "execute_result",
          "data": {
            "text/plain": [
              "        Study ID Patient ID Sample ID  Age at Diagnosis  \\\n",
              "0  brca_metabric    MB-0000   MB-0000             75.65   \n",
              "1  brca_metabric    MB-0002   MB-0002             43.19   \n",
              "2  brca_metabric    MB-0005   MB-0005             48.87   \n",
              "3  brca_metabric    MB-0006   MB-0006             47.68   \n",
              "4  brca_metabric    MB-0008   MB-0008             76.97   \n",
              "\n",
              "  Type of Breast Surgery    Cancer Type  \\\n",
              "0             MASTECTOMY  Breast Cancer   \n",
              "1      BREAST CONSERVING  Breast Cancer   \n",
              "2             MASTECTOMY  Breast Cancer   \n",
              "3             MASTECTOMY  Breast Cancer   \n",
              "4             MASTECTOMY  Breast Cancer   \n",
              "\n",
              "                        Cancer Type Detailed Cellularity Chemotherapy  \\\n",
              "0           Breast Invasive Ductal Carcinoma         NaN           NO   \n",
              "1           Breast Invasive Ductal Carcinoma        High           NO   \n",
              "2           Breast Invasive Ductal Carcinoma        High          YES   \n",
              "3  Breast Mixed Ductal and Lobular Carcinoma    Moderate          YES   \n",
              "4  Breast Mixed Ductal and Lobular Carcinoma        High          YES   \n",
              "\n",
              "  Pam50 + Claudin-low subtype  ...  Relapse Free Status (Months)  \\\n",
              "0                 claudin-low  ...                        138.65   \n",
              "1                        LumA  ...                         83.52   \n",
              "2                        LumB  ...                        151.28   \n",
              "3                        LumB  ...                        162.76   \n",
              "4                        LumB  ...                         18.55   \n",
              "\n",
              "  Relapse Free Status Number of Samples Per Patient  Sample Type     Sex  \\\n",
              "0      0:Not Recurred                             1      Primary  Female   \n",
              "1      0:Not Recurred                             1      Primary  Female   \n",
              "2          1:Recurred                             1      Primary  Female   \n",
              "3      0:Not Recurred                             1      Primary  Female   \n",
              "4          1:Recurred                             1      Primary  Female   \n",
              "\n",
              "  3-Gene classifier subtype TMB (nonsynonymous) Tumor Size Tumor Stage  \\\n",
              "0                 ER-/HER2-            0.000000       22.0         2.0   \n",
              "1     ER+/HER2- High Prolif            2.615035       10.0         1.0   \n",
              "2                       NaN            2.615035       15.0         2.0   \n",
              "3                       NaN            1.307518       25.0         2.0   \n",
              "4     ER+/HER2- High Prolif            2.615035       40.0         2.0   \n",
              "\n",
              "  Patient's Vital Status  \n",
              "0                 Living  \n",
              "1                 Living  \n",
              "2        Died of Disease  \n",
              "3                 Living  \n",
              "4        Died of Disease  \n",
              "\n",
              "[5 rows x 39 columns]"
            ],
            "text/html": [
              "\n",
              "  <div id=\"df-2b092b28-4e0f-4a7d-b8bd-04f4dd4c718d\" class=\"colab-df-container\">\n",
              "    <div>\n",
              "<style scoped>\n",
              "    .dataframe tbody tr th:only-of-type {\n",
              "        vertical-align: middle;\n",
              "    }\n",
              "\n",
              "    .dataframe tbody tr th {\n",
              "        vertical-align: top;\n",
              "    }\n",
              "\n",
              "    .dataframe thead th {\n",
              "        text-align: right;\n",
              "    }\n",
              "</style>\n",
              "<table border=\"1\" class=\"dataframe\">\n",
              "  <thead>\n",
              "    <tr style=\"text-align: right;\">\n",
              "      <th></th>\n",
              "      <th>Study ID</th>\n",
              "      <th>Patient ID</th>\n",
              "      <th>Sample ID</th>\n",
              "      <th>Age at Diagnosis</th>\n",
              "      <th>Type of Breast Surgery</th>\n",
              "      <th>Cancer Type</th>\n",
              "      <th>Cancer Type Detailed</th>\n",
              "      <th>Cellularity</th>\n",
              "      <th>Chemotherapy</th>\n",
              "      <th>Pam50 + Claudin-low subtype</th>\n",
              "      <th>...</th>\n",
              "      <th>Relapse Free Status (Months)</th>\n",
              "      <th>Relapse Free Status</th>\n",
              "      <th>Number of Samples Per Patient</th>\n",
              "      <th>Sample Type</th>\n",
              "      <th>Sex</th>\n",
              "      <th>3-Gene classifier subtype</th>\n",
              "      <th>TMB (nonsynonymous)</th>\n",
              "      <th>Tumor Size</th>\n",
              "      <th>Tumor Stage</th>\n",
              "      <th>Patient's Vital Status</th>\n",
              "    </tr>\n",
              "  </thead>\n",
              "  <tbody>\n",
              "    <tr>\n",
              "      <th>0</th>\n",
              "      <td>brca_metabric</td>\n",
              "      <td>MB-0000</td>\n",
              "      <td>MB-0000</td>\n",
              "      <td>75.65</td>\n",
              "      <td>MASTECTOMY</td>\n",
              "      <td>Breast Cancer</td>\n",
              "      <td>Breast Invasive Ductal Carcinoma</td>\n",
              "      <td>NaN</td>\n",
              "      <td>NO</td>\n",
              "      <td>claudin-low</td>\n",
              "      <td>...</td>\n",
              "      <td>138.65</td>\n",
              "      <td>0:Not Recurred</td>\n",
              "      <td>1</td>\n",
              "      <td>Primary</td>\n",
              "      <td>Female</td>\n",
              "      <td>ER-/HER2-</td>\n",
              "      <td>0.000000</td>\n",
              "      <td>22.0</td>\n",
              "      <td>2.0</td>\n",
              "      <td>Living</td>\n",
              "    </tr>\n",
              "    <tr>\n",
              "      <th>1</th>\n",
              "      <td>brca_metabric</td>\n",
              "      <td>MB-0002</td>\n",
              "      <td>MB-0002</td>\n",
              "      <td>43.19</td>\n",
              "      <td>BREAST CONSERVING</td>\n",
              "      <td>Breast Cancer</td>\n",
              "      <td>Breast Invasive Ductal Carcinoma</td>\n",
              "      <td>High</td>\n",
              "      <td>NO</td>\n",
              "      <td>LumA</td>\n",
              "      <td>...</td>\n",
              "      <td>83.52</td>\n",
              "      <td>0:Not Recurred</td>\n",
              "      <td>1</td>\n",
              "      <td>Primary</td>\n",
              "      <td>Female</td>\n",
              "      <td>ER+/HER2- High Prolif</td>\n",
              "      <td>2.615035</td>\n",
              "      <td>10.0</td>\n",
              "      <td>1.0</td>\n",
              "      <td>Living</td>\n",
              "    </tr>\n",
              "    <tr>\n",
              "      <th>2</th>\n",
              "      <td>brca_metabric</td>\n",
              "      <td>MB-0005</td>\n",
              "      <td>MB-0005</td>\n",
              "      <td>48.87</td>\n",
              "      <td>MASTECTOMY</td>\n",
              "      <td>Breast Cancer</td>\n",
              "      <td>Breast Invasive Ductal Carcinoma</td>\n",
              "      <td>High</td>\n",
              "      <td>YES</td>\n",
              "      <td>LumB</td>\n",
              "      <td>...</td>\n",
              "      <td>151.28</td>\n",
              "      <td>1:Recurred</td>\n",
              "      <td>1</td>\n",
              "      <td>Primary</td>\n",
              "      <td>Female</td>\n",
              "      <td>NaN</td>\n",
              "      <td>2.615035</td>\n",
              "      <td>15.0</td>\n",
              "      <td>2.0</td>\n",
              "      <td>Died of Disease</td>\n",
              "    </tr>\n",
              "    <tr>\n",
              "      <th>3</th>\n",
              "      <td>brca_metabric</td>\n",
              "      <td>MB-0006</td>\n",
              "      <td>MB-0006</td>\n",
              "      <td>47.68</td>\n",
              "      <td>MASTECTOMY</td>\n",
              "      <td>Breast Cancer</td>\n",
              "      <td>Breast Mixed Ductal and Lobular Carcinoma</td>\n",
              "      <td>Moderate</td>\n",
              "      <td>YES</td>\n",
              "      <td>LumB</td>\n",
              "      <td>...</td>\n",
              "      <td>162.76</td>\n",
              "      <td>0:Not Recurred</td>\n",
              "      <td>1</td>\n",
              "      <td>Primary</td>\n",
              "      <td>Female</td>\n",
              "      <td>NaN</td>\n",
              "      <td>1.307518</td>\n",
              "      <td>25.0</td>\n",
              "      <td>2.0</td>\n",
              "      <td>Living</td>\n",
              "    </tr>\n",
              "    <tr>\n",
              "      <th>4</th>\n",
              "      <td>brca_metabric</td>\n",
              "      <td>MB-0008</td>\n",
              "      <td>MB-0008</td>\n",
              "      <td>76.97</td>\n",
              "      <td>MASTECTOMY</td>\n",
              "      <td>Breast Cancer</td>\n",
              "      <td>Breast Mixed Ductal and Lobular Carcinoma</td>\n",
              "      <td>High</td>\n",
              "      <td>YES</td>\n",
              "      <td>LumB</td>\n",
              "      <td>...</td>\n",
              "      <td>18.55</td>\n",
              "      <td>1:Recurred</td>\n",
              "      <td>1</td>\n",
              "      <td>Primary</td>\n",
              "      <td>Female</td>\n",
              "      <td>ER+/HER2- High Prolif</td>\n",
              "      <td>2.615035</td>\n",
              "      <td>40.0</td>\n",
              "      <td>2.0</td>\n",
              "      <td>Died of Disease</td>\n",
              "    </tr>\n",
              "  </tbody>\n",
              "</table>\n",
              "<p>5 rows × 39 columns</p>\n",
              "</div>\n",
              "    <div class=\"colab-df-buttons\">\n",
              "\n",
              "  <div class=\"colab-df-container\">\n",
              "    <button class=\"colab-df-convert\" onclick=\"convertToInteractive('df-2b092b28-4e0f-4a7d-b8bd-04f4dd4c718d')\"\n",
              "            title=\"Convert this dataframe to an interactive table.\"\n",
              "            style=\"display:none;\">\n",
              "\n",
              "  <svg xmlns=\"http://www.w3.org/2000/svg\" height=\"24px\" viewBox=\"0 -960 960 960\">\n",
              "    <path d=\"M120-120v-720h720v720H120Zm60-500h600v-160H180v160Zm220 220h160v-160H400v160Zm0 220h160v-160H400v160ZM180-400h160v-160H180v160Zm440 0h160v-160H620v160ZM180-180h160v-160H180v160Zm440 0h160v-160H620v160Z\"/>\n",
              "  </svg>\n",
              "    </button>\n",
              "\n",
              "  <style>\n",
              "    .colab-df-container {\n",
              "      display:flex;\n",
              "      gap: 12px;\n",
              "    }\n",
              "\n",
              "    .colab-df-convert {\n",
              "      background-color: #E8F0FE;\n",
              "      border: none;\n",
              "      border-radius: 50%;\n",
              "      cursor: pointer;\n",
              "      display: none;\n",
              "      fill: #1967D2;\n",
              "      height: 32px;\n",
              "      padding: 0 0 0 0;\n",
              "      width: 32px;\n",
              "    }\n",
              "\n",
              "    .colab-df-convert:hover {\n",
              "      background-color: #E2EBFA;\n",
              "      box-shadow: 0px 1px 2px rgba(60, 64, 67, 0.3), 0px 1px 3px 1px rgba(60, 64, 67, 0.15);\n",
              "      fill: #174EA6;\n",
              "    }\n",
              "\n",
              "    .colab-df-buttons div {\n",
              "      margin-bottom: 4px;\n",
              "    }\n",
              "\n",
              "    [theme=dark] .colab-df-convert {\n",
              "      background-color: #3B4455;\n",
              "      fill: #D2E3FC;\n",
              "    }\n",
              "\n",
              "    [theme=dark] .colab-df-convert:hover {\n",
              "      background-color: #434B5C;\n",
              "      box-shadow: 0px 1px 3px 1px rgba(0, 0, 0, 0.15);\n",
              "      filter: drop-shadow(0px 1px 2px rgba(0, 0, 0, 0.3));\n",
              "      fill: #FFFFFF;\n",
              "    }\n",
              "  </style>\n",
              "\n",
              "    <script>\n",
              "      const buttonEl =\n",
              "        document.querySelector('#df-2b092b28-4e0f-4a7d-b8bd-04f4dd4c718d button.colab-df-convert');\n",
              "      buttonEl.style.display =\n",
              "        google.colab.kernel.accessAllowed ? 'block' : 'none';\n",
              "\n",
              "      async function convertToInteractive(key) {\n",
              "        const element = document.querySelector('#df-2b092b28-4e0f-4a7d-b8bd-04f4dd4c718d');\n",
              "        const dataTable =\n",
              "          await google.colab.kernel.invokeFunction('convertToInteractive',\n",
              "                                                    [key], {});\n",
              "        if (!dataTable) return;\n",
              "\n",
              "        const docLinkHtml = 'Like what you see? Visit the ' +\n",
              "          '<a target=\"_blank\" href=https://colab.research.google.com/notebooks/data_table.ipynb>data table notebook</a>'\n",
              "          + ' to learn more about interactive tables.';\n",
              "        element.innerHTML = '';\n",
              "        dataTable['output_type'] = 'display_data';\n",
              "        await google.colab.output.renderOutput(dataTable, element);\n",
              "        const docLink = document.createElement('div');\n",
              "        docLink.innerHTML = docLinkHtml;\n",
              "        element.appendChild(docLink);\n",
              "      }\n",
              "    </script>\n",
              "  </div>\n",
              "\n",
              "\n",
              "<div id=\"df-77a57c3a-9668-4e9d-b682-18267e451cc1\">\n",
              "  <button class=\"colab-df-quickchart\" onclick=\"quickchart('df-77a57c3a-9668-4e9d-b682-18267e451cc1')\"\n",
              "            title=\"Suggest charts\"\n",
              "            style=\"display:none;\">\n",
              "\n",
              "<svg xmlns=\"http://www.w3.org/2000/svg\" height=\"24px\"viewBox=\"0 0 24 24\"\n",
              "     width=\"24px\">\n",
              "    <g>\n",
              "        <path d=\"M19 3H5c-1.1 0-2 .9-2 2v14c0 1.1.9 2 2 2h14c1.1 0 2-.9 2-2V5c0-1.1-.9-2-2-2zM9 17H7v-7h2v7zm4 0h-2V7h2v10zm4 0h-2v-4h2v4z\"/>\n",
              "    </g>\n",
              "</svg>\n",
              "  </button>\n",
              "\n",
              "<style>\n",
              "  .colab-df-quickchart {\n",
              "      --bg-color: #E8F0FE;\n",
              "      --fill-color: #1967D2;\n",
              "      --hover-bg-color: #E2EBFA;\n",
              "      --hover-fill-color: #174EA6;\n",
              "      --disabled-fill-color: #AAA;\n",
              "      --disabled-bg-color: #DDD;\n",
              "  }\n",
              "\n",
              "  [theme=dark] .colab-df-quickchart {\n",
              "      --bg-color: #3B4455;\n",
              "      --fill-color: #D2E3FC;\n",
              "      --hover-bg-color: #434B5C;\n",
              "      --hover-fill-color: #FFFFFF;\n",
              "      --disabled-bg-color: #3B4455;\n",
              "      --disabled-fill-color: #666;\n",
              "  }\n",
              "\n",
              "  .colab-df-quickchart {\n",
              "    background-color: var(--bg-color);\n",
              "    border: none;\n",
              "    border-radius: 50%;\n",
              "    cursor: pointer;\n",
              "    display: none;\n",
              "    fill: var(--fill-color);\n",
              "    height: 32px;\n",
              "    padding: 0;\n",
              "    width: 32px;\n",
              "  }\n",
              "\n",
              "  .colab-df-quickchart:hover {\n",
              "    background-color: var(--hover-bg-color);\n",
              "    box-shadow: 0 1px 2px rgba(60, 64, 67, 0.3), 0 1px 3px 1px rgba(60, 64, 67, 0.15);\n",
              "    fill: var(--button-hover-fill-color);\n",
              "  }\n",
              "\n",
              "  .colab-df-quickchart-complete:disabled,\n",
              "  .colab-df-quickchart-complete:disabled:hover {\n",
              "    background-color: var(--disabled-bg-color);\n",
              "    fill: var(--disabled-fill-color);\n",
              "    box-shadow: none;\n",
              "  }\n",
              "\n",
              "  .colab-df-spinner {\n",
              "    border: 2px solid var(--fill-color);\n",
              "    border-color: transparent;\n",
              "    border-bottom-color: var(--fill-color);\n",
              "    animation:\n",
              "      spin 1s steps(1) infinite;\n",
              "  }\n",
              "\n",
              "  @keyframes spin {\n",
              "    0% {\n",
              "      border-color: transparent;\n",
              "      border-bottom-color: var(--fill-color);\n",
              "      border-left-color: var(--fill-color);\n",
              "    }\n",
              "    20% {\n",
              "      border-color: transparent;\n",
              "      border-left-color: var(--fill-color);\n",
              "      border-top-color: var(--fill-color);\n",
              "    }\n",
              "    30% {\n",
              "      border-color: transparent;\n",
              "      border-left-color: var(--fill-color);\n",
              "      border-top-color: var(--fill-color);\n",
              "      border-right-color: var(--fill-color);\n",
              "    }\n",
              "    40% {\n",
              "      border-color: transparent;\n",
              "      border-right-color: var(--fill-color);\n",
              "      border-top-color: var(--fill-color);\n",
              "    }\n",
              "    60% {\n",
              "      border-color: transparent;\n",
              "      border-right-color: var(--fill-color);\n",
              "    }\n",
              "    80% {\n",
              "      border-color: transparent;\n",
              "      border-right-color: var(--fill-color);\n",
              "      border-bottom-color: var(--fill-color);\n",
              "    }\n",
              "    90% {\n",
              "      border-color: transparent;\n",
              "      border-bottom-color: var(--fill-color);\n",
              "    }\n",
              "  }\n",
              "</style>\n",
              "\n",
              "  <script>\n",
              "    async function quickchart(key) {\n",
              "      const quickchartButtonEl =\n",
              "        document.querySelector('#' + key + ' button');\n",
              "      quickchartButtonEl.disabled = true;  // To prevent multiple clicks.\n",
              "      quickchartButtonEl.classList.add('colab-df-spinner');\n",
              "      try {\n",
              "        const charts = await google.colab.kernel.invokeFunction(\n",
              "            'suggestCharts', [key], {});\n",
              "      } catch (error) {\n",
              "        console.error('Error during call to suggestCharts:', error);\n",
              "      }\n",
              "      quickchartButtonEl.classList.remove('colab-df-spinner');\n",
              "      quickchartButtonEl.classList.add('colab-df-quickchart-complete');\n",
              "    }\n",
              "    (() => {\n",
              "      let quickchartButtonEl =\n",
              "        document.querySelector('#df-77a57c3a-9668-4e9d-b682-18267e451cc1 button');\n",
              "      quickchartButtonEl.style.display =\n",
              "        google.colab.kernel.accessAllowed ? 'block' : 'none';\n",
              "    })();\n",
              "  </script>\n",
              "</div>\n",
              "\n",
              "    </div>\n",
              "  </div>\n"
            ],
            "application/vnd.google.colaboratory.intrinsic+json": {
              "type": "dataframe",
              "variable_name": "data"
            }
          },
          "metadata": {},
          "execution_count": 50
        }
      ],
      "source": [
        "data.head()"
      ]
    },
    {
      "cell_type": "code",
      "execution_count": null,
      "id": "b5db7d4b",
      "metadata": {
        "id": "b5db7d4b"
      },
      "outputs": [],
      "source": [
        "data.drop(['Patient ID','Sample ID','Integrative Cluster'],axis=1,inplace=True)"
      ]
    },
    {
      "cell_type": "code",
      "execution_count": null,
      "id": "580137fe",
      "metadata": {
        "id": "580137fe"
      },
      "outputs": [],
      "source": [
        "data.dropna(inplace = True)"
      ]
    },
    {
      "cell_type": "code",
      "execution_count": null,
      "id": "7a96dd7a",
      "metadata": {
        "colab": {
          "base_uri": "https://localhost:8080/"
        },
        "id": "7a96dd7a",
        "outputId": "d27d1021-d5d6-48d1-afa1-f949c9a593e5"
      },
      "outputs": [
        {
          "output_type": "execute_result",
          "data": {
            "text/plain": [
              "Study ID                          0\n",
              "Age at Diagnosis                  0\n",
              "Type of Breast Surgery            0\n",
              "Cancer Type                       0\n",
              "Cancer Type Detailed              0\n",
              "Cellularity                       0\n",
              "Chemotherapy                      0\n",
              "Pam50 + Claudin-low subtype       0\n",
              "Cohort                            0\n",
              "ER status measured by IHC         0\n",
              "ER Status                         0\n",
              "Neoplasm Histologic Grade         0\n",
              "HER2 status measured by SNP6      0\n",
              "HER2 Status                       0\n",
              "Tumor Other Histologic Subtype    0\n",
              "Hormone Therapy                   0\n",
              "Inferred Menopausal State         0\n",
              "Primary Tumor Laterality          0\n",
              "Lymph nodes examined positive     0\n",
              "Mutation Count                    0\n",
              "Nottingham prognostic index       0\n",
              "Oncotree Code                     0\n",
              "Overall Survival (Months)         0\n",
              "Overall Survival Status           0\n",
              "PR Status                         0\n",
              "Radio Therapy                     0\n",
              "Relapse Free Status (Months)      0\n",
              "Relapse Free Status               0\n",
              "Number of Samples Per Patient     0\n",
              "Sample Type                       0\n",
              "Sex                               0\n",
              "3-Gene classifier subtype         0\n",
              "TMB (nonsynonymous)               0\n",
              "Tumor Size                        0\n",
              "Tumor Stage                       0\n",
              "Patient's Vital Status            0\n",
              "dtype: int64"
            ]
          },
          "metadata": {},
          "execution_count": 53
        }
      ],
      "source": [
        "data.isnull().sum()"
      ]
    },
    {
      "cell_type": "code",
      "execution_count": null,
      "id": "3165f1d9",
      "metadata": {
        "colab": {
          "base_uri": "https://localhost:8080/"
        },
        "id": "3165f1d9",
        "outputId": "fbf22544-cc1e-470f-88e0-ffe8ef970553"
      },
      "outputs": [
        {
          "output_type": "execute_result",
          "data": {
            "text/plain": [
              "Negative    958\n",
              "Positive    134\n",
              "Name: HER2 Status, dtype: int64"
            ]
          },
          "metadata": {},
          "execution_count": 54
        }
      ],
      "source": [
        "data['HER2 Status'].value_counts()"
      ]
    },
    {
      "cell_type": "code",
      "execution_count": null,
      "id": "4d23594e",
      "metadata": {
        "colab": {
          "base_uri": "https://localhost:8080/"
        },
        "id": "4d23594e",
        "outputId": "e05414fd-212e-4387-ad5f-0be36a53e4fb"
      },
      "outputs": [
        {
          "output_type": "execute_result",
          "data": {
            "text/plain": [
              "0"
            ]
          },
          "metadata": {},
          "execution_count": 55
        }
      ],
      "source": [
        "data.duplicated().sum()"
      ]
    },
    {
      "cell_type": "markdown",
      "id": "eb6dfcc8",
      "metadata": {
        "id": "eb6dfcc8"
      },
      "source": [
        "# Spliting the Data"
      ]
    },
    {
      "cell_type": "code",
      "execution_count": null,
      "id": "7ffee9f7",
      "metadata": {
        "id": "7ffee9f7"
      },
      "outputs": [],
      "source": [
        "x=data.drop('HER2 Status',axis=1)\n",
        "y=data['HER2 Status']"
      ]
    },
    {
      "cell_type": "markdown",
      "id": "9d77c406",
      "metadata": {
        "id": "9d77c406"
      },
      "source": [
        "# Label Encoder"
      ]
    },
    {
      "cell_type": "code",
      "execution_count": null,
      "id": "1a3daf7b",
      "metadata": {
        "id": "1a3daf7b"
      },
      "outputs": [],
      "source": [
        "x=x.apply(LabelEncoder().fit_transform)\n",
        "y=LabelEncoder().fit_transform(y)"
      ]
    },
    {
      "cell_type": "markdown",
      "id": "e78f089c",
      "metadata": {
        "id": "e78f089c"
      },
      "source": [
        "# Feature Scale"
      ]
    },
    {
      "cell_type": "code",
      "execution_count": null,
      "id": "79d445eb",
      "metadata": {
        "id": "79d445eb"
      },
      "outputs": [],
      "source": [
        "x=StandardScaler().fit_transform(x)"
      ]
    },
    {
      "cell_type": "markdown",
      "id": "7aaf2b10",
      "metadata": {
        "id": "7aaf2b10"
      },
      "source": [
        "# Splitting Training and Testing Dataset (not required)"
      ]
    },
    {
      "cell_type": "code",
      "execution_count": null,
      "id": "bf8b3d28",
      "metadata": {
        "id": "bf8b3d28"
      },
      "outputs": [],
      "source": [
        "#from sklearn.model_selection import train_test_split\n",
        "#x_train, x_test, y_train, y_test= train_test_split(x, y, test_size= 0.3, random_state=42)"
      ]
    },
    {
      "cell_type": "markdown",
      "id": "88e87697",
      "metadata": {
        "id": "88e87697"
      },
      "source": [
        "# Training the Model"
      ]
    },
    {
      "cell_type": "code",
      "execution_count": null,
      "id": "a9ec4e0c",
      "metadata": {
        "id": "a9ec4e0c"
      },
      "outputs": [],
      "source": [
        "def balance_data(X, y):\n",
        "    # Random oversampling to balance the data distribution\n",
        "    ros = RandomOverSampler(random_state=42)\n",
        "    X_balanced, y_balanced = ros.fit_resample(X, y)\n",
        "    return X_balanced, y_balanced\n",
        "\n",
        "def repeated_distribution_optimally_balanced_scv(X, y, k, r, model):\n",
        "    performance_metrics = []\n",
        "\n",
        "    for _ in range(r):\n",
        "        # Shuffle the data to introduce randomness\n",
        "        X, y = shuffle(X, y, random_state=42)\n",
        "\n",
        "        # Initialize StratifiedKFold\n",
        "        skf = StratifiedKFold(n_splits=k, shuffle=True, random_state=42)\n",
        "\n",
        "        fold_metrics = []\n",
        "\n",
        "        for train_idx, test_idx in skf.split(X, y):\n",
        "            # Balance the data distribution within each fold\n",
        "            X_train_fold, y_train_fold = balance_data(X[train_idx], y[train_idx])\n",
        "\n",
        "            # Train the model using X_train_fold, y_train_fold\n",
        "            model.fit(X_train_fold, y_train_fold)\n",
        "\n",
        "            # Predict on the test set\n",
        "            y_pred = model.predict(X[test_idx])\n",
        "\n",
        "            # Evaluate accuracy\n",
        "            fold_accuracy = accuracy_score(y[test_idx], y_pred)\n",
        "            fold_metrics.append(fold_accuracy)\n",
        "\n",
        "        # Calculate and store the average performance metric for this iteration\n",
        "        average_performance = np.mean(fold_metrics)\n",
        "        performance_metrics.append(average_performance)\n",
        "\n",
        "    # Calculate and report the overall performance\n",
        "    overall_performance = np.mean(performance_metrics)\n",
        "    return overall_performance"
      ]
    },
    {
      "cell_type": "code",
      "execution_count": null,
      "id": "05ac1de8",
      "metadata": {
        "colab": {
          "base_uri": "https://localhost:8080/"
        },
        "id": "05ac1de8",
        "outputId": "e48bec7c-c371-4646-bb59-358b12f784cd"
      },
      "outputs": [
        {
          "output_type": "stream",
          "name": "stdout",
          "text": [
            "Overall Performance: 0.9639244271291526\n"
          ]
        }
      ],
      "source": [
        "model_RF = RandomForestClassifier()  # Replace with your chosen model\n",
        "k=5\n",
        "r=5\n",
        "overall_performance = repeated_distribution_optimally_balanced_scv(x, y, k, r, model_RF)\n",
        "\n",
        "print(\"Overall Performance:\", overall_performance)"
      ]
    },
    {
      "cell_type": "code",
      "source": [
        "pred=model_RF.predict(x)\n",
        "Accuracy=metrics.accuracy_score(y, pred)\n",
        "print (\"Accuracy = \", Accuracy)\n",
        "print(metrics.classification_report(y, pred))"
      ],
      "metadata": {
        "colab": {
          "base_uri": "https://localhost:8080/"
        },
        "id": "QlZ9mAeFOeCq",
        "outputId": "31d0153d-6af3-4cd9-a304-ae1a785d60bf"
      },
      "id": "QlZ9mAeFOeCq",
      "execution_count": null,
      "outputs": [
        {
          "output_type": "stream",
          "name": "stdout",
          "text": [
            "Accuracy =  0.9908424908424909\n",
            "              precision    recall  f1-score   support\n",
            "\n",
            "           0       1.00      0.99      0.99       958\n",
            "           1       0.96      0.97      0.96       134\n",
            "\n",
            "    accuracy                           0.99      1092\n",
            "   macro avg       0.98      0.98      0.98      1092\n",
            "weighted avg       0.99      0.99      0.99      1092\n",
            "\n"
          ]
        }
      ]
    },
    {
      "cell_type": "code",
      "source": [
        "# auc scores\n",
        "auc_score1 = roc_auc_score(y, pred)\n",
        "print(auc_score1)"
      ],
      "metadata": {
        "colab": {
          "base_uri": "https://localhost:8080/"
        },
        "id": "YYk_ELAxRMxx",
        "outputId": "02e0a11c-5e20-453e-c714-e904a246d025"
      },
      "id": "YYk_ELAxRMxx",
      "execution_count": null,
      "outputs": [
        {
          "output_type": "stream",
          "name": "stdout",
          "text": [
            "0.9819431028573209\n"
          ]
        }
      ]
    },
    {
      "cell_type": "code",
      "source": [
        "fpr1, tpr1, thresh1 = roc_curve(y, pred, pos_label=1)\n",
        "# roc curve for tpr = fpr\n",
        "random_probs = [0 for i in range(len(y))]\n",
        "p_fpr, p_tpr, _ = roc_curve(y, random_probs, pos_label=1)"
      ],
      "metadata": {
        "id": "F60jYQB4Rb9N"
      },
      "id": "F60jYQB4Rb9N",
      "execution_count": null,
      "outputs": []
    },
    {
      "cell_type": "code",
      "source": [
        "import matplotlib.pyplot as plt\n",
        "plt.style.use('seaborn')\n",
        "\n",
        "# plot roc curves\n",
        "plt.plot(fpr1, tpr1, linestyle='--',color='orange', label='Random Forest Classifier')\n",
        "plt.plot(p_fpr, p_tpr, linestyle='--', color='blue')\n",
        "# title\n",
        "plt.title('ROC curve')\n",
        "# x label\n",
        "plt.xlabel('False Positive Rate')\n",
        "# y label\n",
        "plt.ylabel('True Positive rate')\n",
        "\n",
        "plt.legend(loc='best')\n",
        "plt.savefig('ROC_RF',dpi=300)\n",
        "plt.show();"
      ],
      "metadata": {
        "colab": {
          "base_uri": "https://localhost:8080/",
          "height": 579
        },
        "id": "hUgNG41_RlzO",
        "outputId": "8292e9c1-5a99-4bd3-c69d-accb84d53ade"
      },
      "id": "hUgNG41_RlzO",
      "execution_count": null,
      "outputs": [
        {
          "output_type": "stream",
          "name": "stderr",
          "text": [
            "<ipython-input-65-176a2f08748f>:2: MatplotlibDeprecationWarning: The seaborn styles shipped by Matplotlib are deprecated since 3.6, as they no longer correspond to the styles shipped by seaborn. However, they will remain available as 'seaborn-v0_8-<style>'. Alternatively, directly use the seaborn API instead.\n",
            "  plt.style.use('seaborn')\n"
          ]
        },
        {
          "output_type": "display_data",
          "data": {
            "text/plain": [
              "<Figure size 800x550 with 1 Axes>"
            ],
            "image/png": "[encoded data removed]"
          },
          "metadata": {}
        }
      ]
    },
    {
      "cell_type": "code",
      "execution_count": null,
      "id": "cdc3c5ba",
      "metadata": {
        "colab": {
          "base_uri": "https://localhost:8080/"
        },
        "id": "cdc3c5ba",
        "outputId": "58349f38-39e9-43c1-f5da-dece8d4556fb"
      },
      "outputs": [
        {
          "output_type": "stream",
          "name": "stdout",
          "text": [
            "Overall Performance: 0.9357253571278958\n"
          ]
        }
      ],
      "source": [
        "model_l1=LogisticRegression()\n",
        "k=5\n",
        "r=5\n",
        "overall_performance = repeated_distribution_optimally_balanced_scv(x, y, k, r, model_l1)\n",
        "\n",
        "print(\"Overall Performance:\", overall_performance)"
      ]
    },
    {
      "cell_type": "code",
      "source": [
        "pred=model_l1.predict(x)\n",
        "Accuracy=metrics.accuracy_score(y, pred)\n",
        "print (\"Accuracy = \", Accuracy)\n",
        "print(metrics.classification_report(y, pred))"
      ],
      "metadata": {
        "colab": {
          "base_uri": "https://localhost:8080/"
        },
        "id": "Hy2pwRFuQb4K",
        "outputId": "de30b590-b101-470a-cfa9-0183a66d2eab"
      },
      "id": "Hy2pwRFuQb4K",
      "execution_count": null,
      "outputs": [
        {
          "output_type": "stream",
          "name": "stdout",
          "text": [
            "Accuracy =  0.9487179487179487\n",
            "              precision    recall  f1-score   support\n",
            "\n",
            "           0       1.00      0.94      0.97       958\n",
            "           1       0.71      0.98      0.82       134\n",
            "\n",
            "    accuracy                           0.95      1092\n",
            "   macro avg       0.85      0.96      0.90      1092\n",
            "weighted avg       0.96      0.95      0.95      1092\n",
            "\n"
          ]
        }
      ]
    },
    {
      "cell_type": "code",
      "execution_count": null,
      "id": "83ddc643",
      "metadata": {
        "scrolled": false,
        "colab": {
          "base_uri": "https://localhost:8080/"
        },
        "id": "83ddc643",
        "outputId": "5269a4a8-47fe-454a-b675-3dfbcea165f4"
      },
      "outputs": [
        {
          "output_type": "stream",
          "name": "stdout",
          "text": [
            "Overall Performance: 0.9078806920531189\n"
          ]
        }
      ],
      "source": [
        "model_knn=KNeighborsClassifier(n_neighbors=5,metric='minkowski',p=1)\n",
        "k=5\n",
        "r=5\n",
        "overall_performance = repeated_distribution_optimally_balanced_scv(x, y, k, r, model_knn)\n",
        "\n",
        "print(\"Overall Performance:\", overall_performance)"
      ]
    },
    {
      "cell_type": "code",
      "source": [
        "pred=model_knn.predict(x)\n",
        "Accuracy=metrics.accuracy_score(y, pred)\n",
        "print (\"Accuracy = \", Accuracy)\n",
        "print(metrics.classification_report(y, pred))"
      ],
      "metadata": {
        "colab": {
          "base_uri": "https://localhost:8080/"
        },
        "id": "mVY7nk2VQrB-",
        "outputId": "1f97a626-25b4-4b75-e3cf-d8c565bb4d6f"
      },
      "id": "mVY7nk2VQrB-",
      "execution_count": null,
      "outputs": [
        {
          "output_type": "stream",
          "name": "stdout",
          "text": [
            "Accuracy =  0.9322344322344323\n",
            "              precision    recall  f1-score   support\n",
            "\n",
            "           0       1.00      0.93      0.96       958\n",
            "           1       0.65      0.97      0.78       134\n",
            "\n",
            "    accuracy                           0.93      1092\n",
            "   macro avg       0.82      0.95      0.87      1092\n",
            "weighted avg       0.95      0.93      0.94      1092\n",
            "\n"
          ]
        }
      ]
    },
    {
      "cell_type": "code",
      "execution_count": null,
      "id": "cfdc83ec",
      "metadata": {
        "colab": {
          "base_uri": "https://localhost:8080/"
        },
        "id": "cfdc83ec",
        "outputId": "e3423ab8-8956-4dfb-bb63-4019125541d5"
      },
      "outputs": [
        {
          "output_type": "stream",
          "name": "stdout",
          "text": [
            "Overall Performance: 0.9410355661681539\n"
          ]
        }
      ],
      "source": [
        "model_dt=DecisionTreeClassifier(criterion = \"entropy\",random_state=20)\n",
        "k=5\n",
        "r=5\n",
        "overall_performance = repeated_distribution_optimally_balanced_scv(x, y, k, r, model_dt)\n",
        "\n",
        "print(\"Overall Performance:\", overall_performance)"
      ]
    },
    {
      "cell_type": "code",
      "source": [
        "pred=model_dt.predict(x)\n",
        "Accuracy=metrics.accuracy_score(y, pred)\n",
        "print (\"Accuracy = \", Accuracy)\n",
        "print(metrics.classification_report(y, pred))"
      ],
      "metadata": {
        "colab": {
          "base_uri": "https://localhost:8080/"
        },
        "id": "S9zl5NNpQvhK",
        "outputId": "64edf926-112e-4bf1-b0ed-cc0fdedcf03d"
      },
      "id": "S9zl5NNpQvhK",
      "execution_count": null,
      "outputs": [
        {
          "output_type": "stream",
          "name": "stdout",
          "text": [
            "Accuracy =  0.9844322344322345\n",
            "              precision    recall  f1-score   support\n",
            "\n",
            "           0       0.99      0.99      0.99       958\n",
            "           1       0.94      0.93      0.94       134\n",
            "\n",
            "    accuracy                           0.98      1092\n",
            "   macro avg       0.97      0.96      0.96      1092\n",
            "weighted avg       0.98      0.98      0.98      1092\n",
            "\n"
          ]
        }
      ]
    },
    {
      "cell_type": "code",
      "execution_count": null,
      "id": "96435ac3",
      "metadata": {
        "colab": {
          "base_uri": "https://localhost:8080/"
        },
        "id": "96435ac3",
        "outputId": "2ae160f5-b4eb-407b-ff48-51aec7b37b66"
      },
      "outputs": [
        {
          "output_type": "stream",
          "name": "stdout",
          "text": [
            "Overall Performance: 0.8789392987306774\n"
          ]
        }
      ],
      "source": [
        "model_svc=SVC(kernel=\"rbf\", gamma=0.5, C=1.0)\n",
        "k=5\n",
        "r=5\n",
        "overall_performance = repeated_distribution_optimally_balanced_scv(x, y, k, r, model_svc)\n",
        "\n",
        "print(\"Overall Performance:\", overall_performance)"
      ]
    },
    {
      "cell_type": "code",
      "source": [
        "pred=model_svc.predict(x)\n",
        "Accuracy=metrics.accuracy_score(y, pred)\n",
        "print (\"Accuracy = \", Accuracy)\n",
        "print(metrics.classification_report(y, pred))"
      ],
      "metadata": {
        "colab": {
          "base_uri": "https://localhost:8080/"
        },
        "id": "-d9rIdpkQ3kz",
        "outputId": "8c279a23-f840-4218-f0f6-45e52693f467"
      },
      "id": "-d9rIdpkQ3kz",
      "execution_count": null,
      "outputs": [
        {
          "output_type": "stream",
          "name": "stdout",
          "text": [
            "Accuracy =  0.9752747252747253\n",
            "              precision    recall  f1-score   support\n",
            "\n",
            "           0       0.97      1.00      0.99       958\n",
            "           1       1.00      0.80      0.89       134\n",
            "\n",
            "    accuracy                           0.98      1092\n",
            "   macro avg       0.99      0.90      0.94      1092\n",
            "weighted avg       0.98      0.98      0.97      1092\n",
            "\n"
          ]
        }
      ]
    },
    {
      "cell_type": "code",
      "execution_count": null,
      "id": "c5d9024c",
      "metadata": {
        "colab": {
          "base_uri": "https://localhost:8080/"
        },
        "id": "c5d9024c",
        "outputId": "00112e00-d006-4f97-c5e6-785785e37610"
      },
      "outputs": [
        {
          "output_type": "stream",
          "name": "stdout",
          "text": [
            "Overall Performance: 0.9069699635541033\n"
          ]
        }
      ],
      "source": [
        "model_gnb=GaussianNB()\n",
        "k=5\n",
        "r=5\n",
        "overall_performance = repeated_distribution_optimally_balanced_scv(x, y, k, r, model_gnb)\n",
        "\n",
        "print(\"Overall Performance:\", overall_performance)"
      ]
    },
    {
      "cell_type": "code",
      "source": [
        "pred=model_gnb.predict(x)\n",
        "Accuracy=metrics.accuracy_score(y, pred)\n",
        "print (\"Accuracy = \", Accuracy)\n",
        "print(metrics.classification_report(y, pred))"
      ],
      "metadata": {
        "colab": {
          "base_uri": "https://localhost:8080/"
        },
        "id": "4WosR9USQ-hj",
        "outputId": "21652ced-d098-4189-97a7-5d7965e3bfc2"
      },
      "id": "4WosR9USQ-hj",
      "execution_count": null,
      "outputs": [
        {
          "output_type": "stream",
          "name": "stdout",
          "text": [
            "Accuracy =  0.9084249084249084\n",
            "              precision    recall  f1-score   support\n",
            "\n",
            "           0       1.00      0.90      0.95       958\n",
            "           1       0.57      0.98      0.72       134\n",
            "\n",
            "    accuracy                           0.91      1092\n",
            "   macro avg       0.79      0.94      0.83      1092\n",
            "weighted avg       0.94      0.91      0.92      1092\n",
            "\n"
          ]
        }
      ]
    }
  ],
  "metadata": {
    "kernelspec": {
      "display_name": "Python 3 (ipykernel)",
      "language": "python",
      "name": "python3"
    },
    "language_info": {
      "codemirror_mode": {
        "name": "ipython",
        "version": 3
      },
      "file_extension": ".py",
      "mimetype": "text/x-python",
      "name": "python",
      "nbconvert_exporter": "python",
      "pygments_lexer": "ipython3",
      "version": "3.9.13"
    },
    "colab": {
      "provenance": []
    }
  },
  "nbformat": 4,
  "nbformat_minor": 5
}